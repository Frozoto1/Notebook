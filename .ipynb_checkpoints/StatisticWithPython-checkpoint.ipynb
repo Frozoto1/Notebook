{
 "cells": [
  {
   "cell_type": "markdown",
   "metadata": {
    "toc": true
   },
   "source": [
    "<h1>Table of Contents<span class=\"tocSkip\"></span></h1>\n",
    "<div class=\"toc\"><ul class=\"toc-item\"><li><span><a href=\"#常见的统计检验方法\" data-toc-modified-id=\"常见的统计检验方法-1\"><span class=\"toc-item-num\">1&nbsp;&nbsp;</span>常见的统计检验方法</a></span><ul class=\"toc-item\"><li><span><a href=\"#Wilcoxon-rank-sum\" data-toc-modified-id=\"Wilcoxon-rank-sum-1.1\"><span class=\"toc-item-num\">1.1&nbsp;&nbsp;</span>Wilcoxon rank-sum</a></span></li><li><span><a href=\"#Student's-t-test-and--Welch's-t-test\" data-toc-modified-id=\"Student's-t-test-and--Welch's-t-test-1.2\"><span class=\"toc-item-num\">1.2&nbsp;&nbsp;</span>Student's t-test and  Welch's t-test</a></span></li></ul></li></ul></div>"
   ]
  },
  {
   "cell_type": "code",
   "execution_count": 2,
   "metadata": {
    "collapsed": true
   },
   "outputs": [],
   "source": [
    "from scipy import stats\n",
    "import pandas as pd\n",
    "import numpy as np"
   ]
  },
  {
   "cell_type": "markdown",
   "metadata": {},
   "source": [
    "# 常见的统计检验方法"
   ]
  },
  {
   "cell_type": "markdown",
   "metadata": {},
   "source": [
    "## Wilcoxon rank-sum"
   ]
  },
  {
   "cell_type": "code",
   "execution_count": 3,
   "metadata": {},
   "outputs": [
    {
     "data": {
      "text/plain": [
       "RanksumsResult(statistic=-0.05892556509887897, pvalue=0.953011395422729)"
      ]
     },
     "execution_count": 3,
     "metadata": {},
     "output_type": "execute_result"
    }
   ],
   "source": [
    "x = [1,3,4,2,6,7,3,8,3]\n",
    "y = [4,6,7,2,5,1]\n",
    "stats.ranksums(x, y)"
   ]
  },
  {
   "cell_type": "markdown",
   "metadata": {},
   "source": [
    "## Student's t-test and  Welch's t-test"
   ]
  },
  {
   "cell_type": "markdown",
   "metadata": {
    "collapsed": true
   },
   "source": [
    "[Welch's t-test](https://en.wikipedia.org/wiki/Welch%27s_t-test)\n",
    "\n",
    "[Student's t-test](https://en.wikipedia.org/wiki/Student%27s_t-test)\n",
    "\n",
    "[利用python进行T检验](https://blog.csdn.net/m0_37777649/article/details/74938120)"
   ]
  }
 ],
 "metadata": {
  "kernelspec": {
   "display_name": "Python 3",
   "language": "python",
   "name": "python3"
  },
  "language_info": {
   "codemirror_mode": {
    "name": "ipython",
    "version": 3
   },
   "file_extension": ".py",
   "mimetype": "text/x-python",
   "name": "python",
   "nbconvert_exporter": "python",
   "pygments_lexer": "ipython3",
   "version": "3.6.6"
  },
  "toc": {
   "base_numbering": 1,
   "nav_menu": {},
   "number_sections": true,
   "sideBar": true,
   "skip_h1_title": false,
   "title_cell": "Table of Contents",
   "title_sidebar": "Contents",
   "toc_cell": true,
   "toc_position": {},
   "toc_section_display": true,
   "toc_window_display": false
  }
 },
 "nbformat": 4,
 "nbformat_minor": 2
}
