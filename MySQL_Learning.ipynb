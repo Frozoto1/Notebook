{
 "cells": [
  {
   "cell_type": "markdown",
   "metadata": {},
   "source": [
    "# MySQL学习之路"
   ]
  },
  {
   "cell_type": "markdown",
   "metadata": {},
   "source": [
    "## 环境"
   ]
  },
  {
   "cell_type": "markdown",
   "metadata": {},
   "source": [
    "- Windows10操作系统\n",
    "- MySQL8.0版本"
   ]
  },
  {
   "cell_type": "markdown",
   "metadata": {},
   "source": [
    "## 安装"
   ]
  },
  {
   "cell_type": "markdown",
   "metadata": {},
   "source": [
    "官网下载MySQL8.0社区版本，按照提示安装配置即可"
   ]
  },
  {
   "cell_type": "markdown",
   "metadata": {},
   "source": [
    "## 启动与关闭MySQL服务"
   ]
  },
  {
   "cell_type": "markdown",
   "metadata": {},
   "source": [
    "这儿有两点需要注意：\n",
    "\n",
    "1. 要以管理员的身份启动windows的命令行界面\n",
    "2. 在使用`net start MySQL`的时候需要确保自己的MySQL的服务名确实为MySQL,比如我的MySQL是8.0版本，\n",
    "   应该用`net start MySQL80`命令来启动MySQL服务\n",
    "   \n",
    "关闭则使用`net stop MySQL80`命令\n",
    "\n",
    "下面附上Win10如何查看自己MySQL服务名:"
   ]
  },
  {
   "cell_type": "markdown",
   "metadata": {},
   "source": [
    "![mark](http://ol8t44w0x.bkt.clouddn.com/blog/181019/baIbDGHh44.png?imageslim)"
   ]
  },
  {
   "cell_type": "markdown",
   "metadata": {},
   "source": []
  },
  {
   "cell_type": "markdown",
   "metadata": {},
   "source": [
    "## 错误锦集"
   ]
  },
  {
   "cell_type": "markdown",
   "metadata": {},
   "source": [
    "> 发生错误:The MySQL server is running with the --secure-file-priv option so it cannot execute this statement"
   ]
  },
  {
   "cell_type": "markdown",
   "metadata": {},
   "source": [
    "> 解决：修改`C:\\ProgramData\\MySQL\\MySQL Server 8.0\\my.ini`文件中`secure-file-priv=\"\"`"
   ]
  }
 ],
 "metadata": {
  "kernelspec": {
   "display_name": "Python 3",
   "language": "python",
   "name": "python3"
  },
  "language_info": {
   "codemirror_mode": {
    "name": "ipython",
    "version": 3
   },
   "file_extension": ".py",
   "mimetype": "text/x-python",
   "name": "python",
   "nbconvert_exporter": "python",
   "pygments_lexer": "ipython3",
   "version": "3.6.6"
  }
 },
 "nbformat": 4,
 "nbformat_minor": 2
}
